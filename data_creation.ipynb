{
 "cells": [
  {
   "cell_type": "markdown",
   "metadata": {},
   "source": [
    "# DataCreation\n",
    "\n",
    "In this notebook, we construct a bank statement for a given fiscal year."
   ]
  },
  {
   "cell_type": "code",
   "execution_count": null,
   "metadata": {
    "collapsed": true
   },
   "outputs": [],
   "source": [
    "import pandas as pd\n",
    "import numpy as np\n",
    "import numpy.random as npr"
   ]
  },
  {
   "cell_type": "markdown",
   "metadata": {},
   "source": [
    "We set up two dictionaries. One for regular payments and one for expenses that occur (relatively) unscheduled. The first kind is characterized simply by its amount while the second kind is associated with a tuple of three values that represent the probability of the expense occuring, and the average value and standard deviation for the amount spent. "
   ]
  },
  {
   "cell_type": "code",
   "execution_count": null,
   "metadata": {
    "collapsed": true
   },
   "outputs": [],
   "source": [
    "regular = {}\n",
    "regular[\"Rent\"] = 1000\n",
    "regular[\"Car Loan\"] = 250\n",
    "regular[\"Insurances\"] = 30\n",
    "regular[\"Phone\"] = 60\n",
    "\n",
    "random = {}\n",
    "random[\"CoffeeBrothers\"] = (6./7, 2., 0.1)\n",
    "random[\"BeansBeansBeans\"] = (3./7, 2.2, 0.3)\n",
    "random[\"Who likes dough?\"] = (2./30, 5., 3.)\n",
    "random[\"BestBakers\"] = (5./30, 3, 2)\n",
    "random[\"Cuisine Francaise\"] = (2./50, 100, 10)\n",
    "random[\"Best Burgers\"] = (1./50, 7, 2)\n",
    "random[\"Gimme Gyros\"] = (1./50, 4, 1)\n",
    "random[\"Bernhard Bratwurst\"] = (3./50, 2, 0.05)\n",
    "random[\"Trattoria Accento\"] = (1./40, 15, 1)\n",
    "random[\"Convencience\"] = (1./20, 7., 2)\n",
    "random[\"Plumber\"] = (1./300, 70, 30)\n",
    "random[\"DIY Furniture\"] = (5./300, 150, 20)\n",
    "random[\"Electrobuddy\"] = (1./100, 500, 15)\n",
    "random[\"Farmer's Market\"] = (1./7, 25, 1)\n",
    "random[\"Franny's Fantastic Food\"] = (1./7, 60, 4)\n",
    "random[\"Super Foods Market\"] = (1./4, 60, 3)\n",
    "random[\"Gas\"] = (1./8, 65, 1)\n",
    "random[\"Clothes left and right\"] = (1./30, 45, 5)\n",
    "\n",
    "messages = [\"Thank you for your purchase\", \"See you soon!\", \"We value your business\", \"Always a good choice\", \"\"]"
   ]
  },
  {
   "cell_type": "markdown",
   "metadata": {},
   "source": [
    "The data frame is constructed by providing column names and a preliminary length that equals the number of regular payments times 12 - one for each month. This is strictly not necessary but allows pandas to allocate some memory beforehand. Again, this would be more important for larger datasets where adding data row by row might become prohibitively expensive."
   ]
  },
  {
   "cell_type": "code",
   "execution_count": null,
   "metadata": {
    "collapsed": true,
    "scrolled": true
   },
   "outputs": [],
   "source": [
    "bank_account = pd.DataFrame(columns=[\"Date\", \"Recipient\", \"Subject\", \"ID\", \"Amount\"], index=range(12 * len(regular)))\n",
    "\n",
    "frst_day = pd.datetime(2015, 1, 1)\n",
    "last_day = pd.datetime(2017, 7, 31)\n",
    "\n",
    "r_idx = 0\n",
    "for d in pd.date_range(frst_day, last_day, freq=\"MS\"):\n",
    "    for name, amount in regular.items():\n",
    "        entry = [d, name, \"\", \"\", -amount]\n",
    "        bank_account.loc[r_idx, :] = entry\n",
    "        r_idx += 1        "
   ]
  },
  {
   "cell_type": "markdown",
   "metadata": {},
   "source": [
    "For the random entries, we first construct a range of all days in a given year. Using numpys random number generators, we check for each day whether a purchase should have happened. For those that did, we also choose a random message and a random ID. The data is then compiled in a separate dataframe that shows you how to construct a dataframe from a dictionary and then appended to the overall frame."
   ]
  },
  {
   "cell_type": "code",
   "execution_count": null,
   "metadata": {
    "collapsed": true
   },
   "outputs": [],
   "source": [
    "days = pd.date_range(frst_day, last_day, freq=\"1d\")\n",
    "\n",
    "for recipient, props in random.items():\n",
    "    prob = props[0]\n",
    "    mu = props[1]\n",
    "    sigma = props[2]\n",
    "    \n",
    "    purchased = npr.rand(len(days)) < prob\n",
    "    dates = days[purchased]\n",
    "    recipients = [recipient] * len(dates)\n",
    "    subjects = npr.choice(messages, len(dates))\n",
    "    ids = npr.randint(10000, 100000, len(dates))\n",
    "    amounts = -1. * np.around([max(mu - sigma, a) for a in npr.normal(mu, sigma, len(dates))], decimals=2)\n",
    "    \n",
    "    to_insert = pd.DataFrame({\"Date\":dates, \"Recipient\":recipients, \"Subject\":subjects, \"ID\":ids, \"Amount\":amounts})\n",
    "    bank_account = bank_account.append(to_insert)"
   ]
  },
  {
   "cell_type": "markdown",
   "metadata": {},
   "source": [
    "After all data is inserted, the dataframe is sorted by date and saved as csv. To make the analysis a bit more difficult, we are going to create overlapping datasets so that we have to filter out duplicate transactions."
   ]
  },
  {
   "cell_type": "code",
   "execution_count": null,
   "metadata": {},
   "outputs": [],
   "source": [
    "bank_account.sort_values([\"Date\"], inplace=True)\n",
    "bank_account.Date = pd.to_datetime(bank_account.Date)\n",
    "\n",
    "checkpoints = [frst_day, pd.datetime(2015, 4, 16), pd.datetime(2015, 12, 1), pd.datetime(2016, 7, 17), pd.datetime(2016, 9, 23), pd.datetime(2017, 3, 1), last_day]\n",
    "\n",
    "for first, last in zip(checkpoints[:-2], checkpoints[2:]):\n",
    "    f_str = \"{0}{1}{2}\".format(first.year, first.month, first.day)\n",
    "    l_str = \"{0}{1}{2}\".format(last.year, last.month, last.day)\n",
    "    \n",
    "    bank_account[(bank_account.Date >= first) & (bank_account.Date <= last)].to_csv(\"money_bin_{0}_{1}.csv\".format(f_str, l_str), index=False)"
   ]
  },
  {
   "cell_type": "code",
   "execution_count": null,
   "metadata": {
    "collapsed": true
   },
   "outputs": [],
   "source": []
  },
  {
   "cell_type": "code",
   "execution_count": null,
   "metadata": {
    "collapsed": true
   },
   "outputs": [],
   "source": []
  }
 ],
 "metadata": {
  "kernelspec": {
   "display_name": "Python 3",
   "language": "python",
   "name": "python3"
  },
  "language_info": {
   "codemirror_mode": {
    "name": "ipython",
    "version": 3
   },
   "file_extension": ".py",
   "mimetype": "text/x-python",
   "name": "python",
   "nbconvert_exporter": "python",
   "pygments_lexer": "ipython3",
   "version": "3.5.3"
  }
 },
 "nbformat": 4,
 "nbformat_minor": 2
}
